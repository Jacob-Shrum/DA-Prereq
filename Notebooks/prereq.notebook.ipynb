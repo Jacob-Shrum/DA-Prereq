{
 "cells": [
  {
   "cell_type": "markdown",
   "id": "43f6e9e7",
   "metadata": {},
   "source": [
    "Hello, I'm Jacob, I am excited to learn honestly everything with this I enjoy coding and learning new things with it even though I am not the best with it. "
   ]
  },
  {
   "cell_type": "code",
   "execution_count": 4,
   "id": "3286029c",
   "metadata": {},
   "outputs": [
    {
     "name": "stdout",
     "output_type": "stream",
     "text": [
      "Hello Everyone!\n"
     ]
    }
   ],
   "source": [
    "print (\"Hello Everyone!\") "
   ]
  }
 ],
 "metadata": {
  "kernelspec": {
   "display_name": "Python 3",
   "language": "python",
   "name": "python3"
  },
  "language_info": {
   "codemirror_mode": {
    "name": "ipython",
    "version": 3
   },
   "file_extension": ".py",
   "mimetype": "text/x-python",
   "name": "python",
   "nbconvert_exporter": "python",
   "pygments_lexer": "ipython3",
   "version": "3.13.7"
  }
 },
 "nbformat": 4,
 "nbformat_minor": 5
}
